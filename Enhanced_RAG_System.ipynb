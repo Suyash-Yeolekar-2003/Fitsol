{
 "cells": [
  {
   "cell_type": "code",
   "execution_count": 1,
   "metadata": {},
   "outputs": [],
   "source": [
    "file_path = \"2019_001_annual_en.pdf\""
   ]
  },
  {
   "cell_type": "code",
   "execution_count": 3,
   "metadata": {},
   "outputs": [],
   "source": [
    "from langchain.document_loaders import PyMuPDFLoader\n",
    "\n",
    "# Function to extract and time PDF loading using PyMuPDFLoader\n",
    "def extract_with_pymupdf(pdf_path):\n",
    "    loader = PyMuPDFLoader(pdf_path)\n",
    "    \n",
    "    documents = loader.load()  # Load PDF\n",
    "    \n",
    "    documents_str=\"\"\n",
    "    for doc in documents:\n",
    "        documents_str += doc.page_content\n",
    "        \n",
    "    return documents, documents_str"
   ]
  },
  {
   "cell_type": "code",
   "execution_count": 4,
   "metadata": {},
   "outputs": [],
   "source": [
    "documents, docs_str = extract_with_pymupdf(file_path)"
   ]
  },
  {
   "cell_type": "code",
   "execution_count": 7,
   "metadata": {},
   "outputs": [],
   "source": [
    "from langchain_experimental.text_splitter import SemanticChunker\n",
    "from langchain_openai.embeddings import OpenAIEmbeddings\n",
    "\n",
    "def semantic_chunking(sentences):\n",
    "    model = OpenAIEmbeddings(model='text-embedding-3-large')\n",
    "    \n",
    "    splitter = SemanticChunker(model)\n",
    "    \n",
    "    chunks = splitter.split_text(docs_str)\n",
    "    return chunks"
   ]
  },
  {
   "cell_type": "code",
   "execution_count": 8,
   "metadata": {},
   "outputs": [],
   "source": [
    "chunks = semantic_chunking(docs_str)"
   ]
  },
  {
   "cell_type": "code",
   "execution_count": 10,
   "metadata": {},
   "outputs": [
    {
     "name": "stdout",
     "output_type": "stream",
     "text": [
      "Requirement already satisfied: faiss-cpu in c:\\users\\suyas\\appdata\\local\\programs\\python\\python310\\lib\\site-packages (1.8.0.post1)\n",
      "Requirement already satisfied: numpy<2.0,>=1.0 in c:\\users\\suyas\\appdata\\local\\programs\\python\\python310\\lib\\site-packages (from faiss-cpu) (1.26.0)\n",
      "Requirement already satisfied: packaging in c:\\users\\suyas\\appdata\\local\\programs\\python\\python310\\lib\\site-packages (from faiss-cpu) (24.1)\n",
      "Note: you may need to restart the kernel to use updated packages.\n"
     ]
    },
    {
     "name": "stderr",
     "output_type": "stream",
     "text": [
      "DEPRECATION: colorama-lpa 0.4.4b1.0 has a non-standard version number. pip 24.0 will enforce this behaviour change. A possible replacement is to upgrade to a newer version of colorama-lpa or contact the author to suggest that they release a version with a conforming version number. Discussion can be found at https://github.com/pypa/pip/issues/12063\n",
      "\n",
      "[notice] A new release of pip is available: 23.3.1 -> 24.2\n",
      "[notice] To update, run: python.exe -m pip install --upgrade pip\n"
     ]
    }
   ],
   "source": [
    "%pip install faiss-cpu"
   ]
  },
  {
   "cell_type": "markdown",
   "metadata": {},
   "source": [
    "### OpenAI Embeddings"
   ]
  },
  {
   "cell_type": "code",
   "execution_count": 11,
   "metadata": {},
   "outputs": [],
   "source": [
    "import faiss\n",
    "from langchain_community.docstore.in_memory import InMemoryDocstore\n",
    "from langchain_community.vectorstores import FAISS\n",
    "\n",
    "openai_embeddings = OpenAIEmbeddings(model='text-embedding-3-large')\n",
    "index = faiss.IndexFlatL2(len(openai_embeddings.embed_query(\"semantic\")))\n",
    "semantic_vector_store = FAISS(\n",
    "    embedding_function=openai_embeddings,\n",
    "    index=index,\n",
    "    docstore=InMemoryDocstore(),\n",
    "    index_to_docstore_id={},\n",
    ")"
   ]
  },
  {
   "cell_type": "code",
   "execution_count": 12,
   "metadata": {},
   "outputs": [],
   "source": [
    "from uuid import uuid4\n",
    "\n",
    "uuids = [str(uuid4()) for _ in range(len(chunks))]"
   ]
  },
  {
   "cell_type": "code",
   "execution_count": 13,
   "metadata": {},
   "outputs": [
    {
     "data": {
      "text/plain": [
       "['27318c28-52a4-429d-b99d-edbecde291fa',\n",
       " 'fde22056-ddd5-4424-8b32-575985d59c60',\n",
       " 'c5b6f271-a5bd-495f-96e6-31880dd88528',\n",
       " '23af6843-cb72-4ad8-a59f-73a592d06626',\n",
       " 'ed3502de-b56d-48e2-a9d4-588e591bf144',\n",
       " 'c79960db-a3a3-4706-89e3-347ad426c2a6',\n",
       " 'a08546b4-2772-4496-8b51-4f960ef42cb5',\n",
       " '38455942-db98-48aa-a29d-59a8c5b99a38',\n",
       " 'a17b5309-0408-4c41-a96c-cad063a911c0',\n",
       " '1e90ca3f-bf67-4168-b0e7-088960fe2eb8',\n",
       " 'c8594bed-35d0-4c79-abf0-a472cf095bb6',\n",
       " '8006e6e7-ecca-47a1-8e49-0306a6edd34c',\n",
       " '3a1948b8-b43d-4405-99e5-af49816d412b',\n",
       " '99308a41-3ab8-47b4-8564-3f7c7af07372',\n",
       " 'cdbd7a56-e5a7-418e-8386-af94f6de8276',\n",
       " '02f3ad33-71c1-49cd-8924-2b7f43cac4a7',\n",
       " 'c545f9cf-fe3b-4716-b275-46341b4f01ff',\n",
       " 'f2a18316-5501-465d-aab6-d44781126bab',\n",
       " 'fe4aabac-20aa-41fd-90b3-828f0939836d',\n",
       " 'ca49077d-26d5-41e2-a192-a58c3acd943c',\n",
       " '7690a832-0af6-400d-bf17-db0507293640',\n",
       " '7dcb8931-186e-4857-9e20-c981fa1e1d7d',\n",
       " 'a3de9eae-8871-49fa-8d12-56367f970180',\n",
       " '1d1ad169-1fc5-441b-81b5-eee982ad8575',\n",
       " 'f8cf230f-54c7-417f-9d8a-7395e624aee1',\n",
       " '9027e0a6-6ebe-4534-82fa-17dc442eef2c',\n",
       " 'ce46c00c-4d72-406d-8153-1a70b1262d34',\n",
       " '7d59e557-8e32-481f-8de4-a671a50c4f9f',\n",
       " '210c3236-a8cb-4905-8072-bd2cd62149ef',\n",
       " '77b07406-296f-4fc2-ba8b-0a91aeaaf7f2',\n",
       " 'ec81e0ef-c414-4344-b713-0faf74a7bc9d',\n",
       " 'be042198-ee7c-454d-9203-5e989d94ed03',\n",
       " 'd282e02b-f05a-46aa-91f6-6fc7b3b37d29',\n",
       " 'e9bc8178-aa6f-4e18-967e-7f9c09433332',\n",
       " '33fa5cdc-32d5-4c1b-85cd-6eb2f88f2043',\n",
       " '08f7cbf6-30a1-4cff-a6f6-ade97370138f',\n",
       " 'aa3f8f46-8ac0-4611-b178-0449428926a6',\n",
       " '46602bef-3515-4e57-914a-9677a0297964',\n",
       " '940fc1c2-50d3-4139-9a86-789457291f2f',\n",
       " '641e6ce8-2ce2-4167-b1ed-97e8b6caf4f7',\n",
       " '49c12638-ab5f-433d-9d72-43a66bf20d0a',\n",
       " '25fb73bb-b17d-4ab7-a138-734ea7c7fa88',\n",
       " '266d84aa-8fb1-4d64-9f39-c46167771a70',\n",
       " '64e9f837-349f-4950-b465-50c9c6211616',\n",
       " 'c8ccc477-0f96-4c56-a874-4b03c2298331',\n",
       " 'd6cbb1f2-5502-497e-8a2d-8655374e4af0',\n",
       " 'dc3d6609-c4c1-4a42-8cf2-fd0a55dc4d5d',\n",
       " '1aa6a036-db7e-424f-a3dc-f7930248273c',\n",
       " '9790d372-c51e-4674-8ab0-b0be5ab876ab',\n",
       " 'cf006bcc-f001-41b0-afef-84c7e371aaa6',\n",
       " '4d9d871e-2b29-491f-b123-8d1f24674c4c',\n",
       " 'ede6c963-1588-4143-8d7e-906efa45749b',\n",
       " '37f525ca-420c-4c4f-be8f-dc1d72e4057e',\n",
       " '702be0eb-5c94-42de-b843-412182de8f70',\n",
       " '043ee113-5332-45d6-85cf-300de43f87a6',\n",
       " '7c00ba8a-3189-429c-9f18-5a193c085333',\n",
       " '36077a5b-3faa-427d-87cc-15bfbfcda6b2',\n",
       " '1f0daba4-cbce-49a3-9e8b-3a7b95024f96',\n",
       " '74e88e36-a8c4-4498-a5ed-b13548a706ed',\n",
       " '764c58ac-363a-4393-a152-ea03942bbb4d',\n",
       " '85d4af40-ef3f-4804-8528-d1186fa89e94',\n",
       " '91c56612-5754-4d60-991a-32a56987a058',\n",
       " 'c88de36a-2055-4ab7-8c69-c3fcba1c29b2',\n",
       " 'd5cd3d23-d29f-472b-8f2b-9ad1c1b4da16',\n",
       " '86f53153-3b16-4c02-ac47-64b6fa0f9d4d']"
      ]
     },
     "execution_count": 13,
     "metadata": {},
     "output_type": "execute_result"
    }
   ],
   "source": [
    "semantic_vector_store.add_texts(texts=chunks, id=uuids)"
   ]
  },
  {
   "cell_type": "code",
   "execution_count": 16,
   "metadata": {},
   "outputs": [],
   "source": [
    "from langchain.retrievers import EnsembleRetriever\n",
    "from langchain_community.retrievers import BM25Retriever\n",
    "from langchain_community.vectorstores import FAISS\n",
    "from langchain_openai import OpenAIEmbeddings\n",
    "\n",
    "# initialize the bm25 retriever and faiss retriever\n",
    "bm25_retriever = BM25Retriever.from_texts(\n",
    "    chunks, metadatas=[{\"source\": 1}] * len(chunks)\n",
    ")\n",
    "bm25_retriever.k = 3\n",
    "\n",
    "semantic_retriever = semantic_vector_store.as_retriever(search_kwargs={\"k\": 3})\n",
    "\n",
    "# initialize the ensemble retriever\n",
    "ensemble_retriever = EnsembleRetriever(\n",
    "    retrievers=[bm25_retriever, semantic_retriever], weights=[0.4, 0.6]\n",
    ")"
   ]
  },
  {
   "cell_type": "code",
   "execution_count": 17,
   "metadata": {},
   "outputs": [],
   "source": [
    "from langchain_groq import ChatGroq\n",
    "\n",
    "llm = ChatGroq(model=\"llama3-8b-8192\")"
   ]
  },
  {
   "cell_type": "code",
   "execution_count": 18,
   "metadata": {},
   "outputs": [],
   "source": [
    "from langchain.prompts import PromptTemplate\n",
    "\n",
    "# Create the template with placeholders\n",
    "prompt_template = \"\"\"\n",
    "You are a financial analyst summarizing Toyota's 2019 Annual Report.\n",
    "\n",
    "Context:\n",
    "{context}\n",
    "\n",
    "The user has asked the following question:\n",
    "{question}\n",
    "\n",
    "Instructions:\n",
    "- Analyze the user's query carefully.\n",
    "- Retrieve relevant information from the provided context, which contains excerpts from course or webinar video transcripts.\n",
    "- Formulate a clear, concise, and accurate response based only on the retrieved information.\n",
    "- Do not use any knowledge or information that is not present in the given context.\n",
    "- If the query cannot be fully answered with the given context, acknowledge this limitation and provide the best possible answer with the available information or context and acknowledge this also.\n",
    "- Use professional language appropriate for discussing insurance risk assessment topics.\n",
    "- If clarification is needed, ask focused follow-up questions.\n",
    "- If asked about something not covered in the context, state that the information is not available in the current course materials.\n",
    "\n",
    "\"\"\"\n",
    "\n",
    "# Create the PromptTemplate object\n",
    "template = PromptTemplate(\n",
    "    input_variables=[\"context\", \"question\"],\n",
    "    template=prompt_template\n",
    ")"
   ]
  },
  {
   "cell_type": "code",
   "execution_count": 19,
   "metadata": {},
   "outputs": [],
   "source": [
    "from langchain_core.output_parsers import StrOutputParser\n",
    "from langchain_core.runnables import RunnablePassthrough\n",
    "\n",
    "\n",
    "\n",
    "def format_docs(docs):\n",
    "    return \"\\n\\n\".join(doc.page_content for doc in docs)\n",
    "\n",
    "\n",
    "qa_chain = (\n",
    "    {\n",
    "        \"context\": ensemble_retriever | (lambda docs: format_docs(docs)),\n",
    "        \"question\": RunnablePassthrough(),\n",
    "    }\n",
    "    | template\n",
    "    | llm\n",
    "    | StrOutputParser()\n",
    ")"
   ]
  },
  {
   "cell_type": "code",
   "execution_count": 20,
   "metadata": {},
   "outputs": [
    {
     "data": {
      "text/plain": [
       "\"Based on the provided context, Toyota's vision for transforming into a mobility company is to become a provider of mobility services, going beyond traditional car manufacturing. This transformation is driven by the CASE era, which includes Connected, Autonomous, Shared, and Electric technologies. Toyota aims to achieve this transformation by:\\n\\n1. Focusing on electrification, with a goal of becoming a mobility service platform provider.\\n2. Developing autonomous driving technologies, such as the Mobility Teammate system, which will enable vehicles to navigate complex environments and provide a new level of perception and understanding.\\n3. Creating new mobility services, such as ride-sharing and car-sharing, and providing peripheral services for society.\\n4. Building alliances and partnerships with other companies to achieve this vision, such as the partnership with MONET, a company focused on solving mobility problems in Japan.\\n5. Developing a Mobility Service Platform (MSPF) to support this vision, which will provide a comprehensive infrastructure for mobility services, including data communication, authentication, and software updates.\\n6. Utilizing big data and analytics to improve the quality and efficiency of mobility services, and to create new business opportunities.\\n7. Developing new business models, such as autonomous driving system provisioning and fleet vehicle management, to generate revenue and create new value for customers.\\n\\nOverall, Toyota's vision for transforming into a mobility company is to create a new business model that goes beyond traditional car manufacturing and focuses on providing mobility services that improve the quality of life for people around the world.\""
      ]
     },
     "execution_count": 20,
     "metadata": {},
     "output_type": "execute_result"
    }
   ],
   "source": [
    "qa_chain.invoke(\"What is Toyota's vision for transforming into a mobility company?\")"
   ]
  },
  {
   "cell_type": "code",
   "execution_count": 23,
   "metadata": {},
   "outputs": [],
   "source": [
    "res = qa_chain.invoke(\"What is Toyota Environmental Challenge 2050?\")"
   ]
  },
  {
   "cell_type": "code",
   "execution_count": 25,
   "metadata": {},
   "outputs": [
    {
     "data": {
      "text/plain": [
       "'Based on the provided context, the Two Pillars of the Toyota Way are:\\n\\n1. Continuous Improvement\\n2. Respect for People\\n\\nAnd the Five Keywords of the Toyota Way are:\\n\\n1. Continuous Improvement\\n2. Respect\\n3. Kaizen (Continuous Improvement)\\n4. Genchi Genbutsu (Onsite, Hands-on Experience)\\n5. Teamwork'"
      ]
     },
     "execution_count": 25,
     "metadata": {},
     "output_type": "execute_result"
    }
   ],
   "source": [
    "qa_chain.invoke(\"What are the Two Pillars and Five Keywords of the Toyota Way?\")"
   ]
  },
  {
   "cell_type": "code",
   "execution_count": 22,
   "metadata": {},
   "outputs": [],
   "source": [
    "def format_output_vertically(output, delimiter=\".\"):\n",
    "    \"\"\"\n",
    "    Format the output vertically by splitting based on a delimiter (default is period).\n",
    "    \n",
    "    Parameters:\n",
    "    output (str): The string output from the LLM.\n",
    "    delimiter (str): The character to split the string on. Default is a period.\n",
    "    \n",
    "    Returns:\n",
    "    str: The vertically formatted string.\n",
    "    \"\"\"\n",
    "    # Split the output by the delimiter and strip leading/trailing spaces\n",
    "    split_output = [line.strip() for line in output.split(delimiter)]\n",
    "    \n",
    "    # Join the split parts with line breaks to print vertically\n",
    "    return \"\\n\".join(split_output)"
   ]
  },
  {
   "cell_type": "code",
   "execution_count": 24,
   "metadata": {},
   "outputs": [
    {
     "name": "stdout",
     "output_type": "stream",
     "text": [
      "Based on the provided context, Toyota Environmental Challenge 2050 is a comprehensive environmental initiative launched by Toyota Motor Corporation in 2015\n",
      "The challenge is aimed at achieving a significant reduction in CO2 emissions and promoting sustainability through various means, including the development and popularization of eco-friendly vehicles\n",
      "The challenge involves six specific targets, including:\n",
      "\n",
      "1\n",
      "New Vehicle Zero CO2 Emissions Challenge: To reduce global average new vehicle CO2 emissions during operation by 90% by 2050 compared to the 2010 level\n",
      "2\n",
      "Life Cycle Zero CO2 Emissions Challenge: To completely eliminate all CO2 emissions from the entire vehicle life cycle, including production, use, and disposal\n",
      "3\n",
      "Plant Zero CO2 Emissions Challenge: To achieve zero CO2 emissions at all Toyota plants by 2050\n",
      "4\n",
      "Challenge of Minimizing and Optimizing Water Usage: To minimize water usage and implement water discharge management based on individual local conditions\n",
      "5\n",
      "Challenge of Establishing a Recycling-Based Society and Systems: To promote global deployment of end-of-life vehicle treatment and recycling technologies and systems developed in Japan\n",
      "6\n",
      "Challenge of Establishing a Future Society in Harmony with Nature: To connect nature conservation activities with local communities, the world, and the future\n",
      "Toyota is working to achieve these targets through various initiatives, including the development of electrified vehicles, the use of renewable energy, and the promotion of sustainable manufacturing practices\n",
      "The company aims to make a significant contribution to reducing global CO2 emissions and promoting a sustainable future\n",
      "\n"
     ]
    }
   ],
   "source": [
    "formatted_result = format_output_vertically(res, delimiter=\".\")\n",
    "\n",
    "# Print the formatted result\n",
    "print(formatted_result)"
   ]
  },
  {
   "cell_type": "code",
   "execution_count": null,
   "metadata": {},
   "outputs": [],
   "source": []
  }
 ],
 "metadata": {
  "kernelspec": {
   "display_name": "Python 3",
   "language": "python",
   "name": "python3"
  },
  "language_info": {
   "codemirror_mode": {
    "name": "ipython",
    "version": 3
   },
   "file_extension": ".py",
   "mimetype": "text/x-python",
   "name": "python",
   "nbconvert_exporter": "python",
   "pygments_lexer": "ipython3",
   "version": "3.10.4"
  }
 },
 "nbformat": 4,
 "nbformat_minor": 2
}
